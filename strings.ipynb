{
 "cells": [
  {
   "cell_type": "code",
   "execution_count": 1,
   "metadata": {},
   "outputs": [
    {
     "data": {
      "text/plain": [
       "'Hello World'"
      ]
     },
     "execution_count": 1,
     "metadata": {},
     "output_type": "execute_result"
    }
   ],
   "source": [
    "# Single quote string\n",
    "'Hello World'"
   ]
  },
  {
   "cell_type": "code",
   "execution_count": 3,
   "metadata": {},
   "outputs": [
    {
     "data": {
      "text/plain": [
       "'Hello Python'"
      ]
     },
     "execution_count": 3,
     "metadata": {},
     "output_type": "execute_result"
    }
   ],
   "source": [
    "# Double quotes string\n",
    "\"Hello Python\""
   ]
  },
  {
   "cell_type": "code",
   "execution_count": 4,
   "metadata": {},
   "outputs": [
    {
     "data": {
      "text/plain": [
       "'\\nThis is a python string\\n'"
      ]
     },
     "execution_count": 4,
     "metadata": {},
     "output_type": "execute_result"
    }
   ],
   "source": [
    "# Triple quotes string\n",
    "\"\"\"\n",
    "This is a python string\n",
    "\"\"\""
   ]
  },
  {
   "cell_type": "code",
   "execution_count": 5,
   "metadata": {},
   "outputs": [
    {
     "name": "stdout",
     "output_type": "stream",
     "text": [
      "<class 'str'>\n"
     ]
    }
   ],
   "source": [
    "# type() function\n",
    "s = \"Hello\"\n",
    "print(type(s))"
   ]
  },
  {
   "cell_type": "code",
   "execution_count": 6,
   "metadata": {},
   "outputs": [
    {
     "name": "stdout",
     "output_type": "stream",
     "text": [
      "5\n"
     ]
    }
   ],
   "source": [
    "# len() function\n",
    "print(len(s))"
   ]
  },
  {
   "cell_type": "markdown",
   "metadata": {},
   "source": [
    "### String Access"
   ]
  },
  {
   "cell_type": "code",
   "execution_count": 26,
   "metadata": {},
   "outputs": [
    {
     "name": "stdout",
     "output_type": "stream",
     "text": [
      "First Char:  H\n",
      "Last Char:  d\n",
      "0 to 5 Char:  Hello\n",
      "4th Char:  l\n",
      "Reverse:  dlroW olleH\n"
     ]
    }
   ],
   "source": [
    "s = 'Hello World'\n",
    "\n",
    "print('First Char: ', s[0])\n",
    "print('Last Char: ', s[-1])\n",
    "print('0 to 5 Char: ', s[0:5])\n",
    "print('4th Char: ', s[3])\n",
    "\n",
    "print('Reverse: ', s[::-1])"
   ]
  },
  {
   "cell_type": "code",
   "execution_count": 33,
   "metadata": {},
   "outputs": [
    {
     "name": "stdout",
     "output_type": "stream",
     "text": [
      "HelloWorld\n",
      "HelloHello\n",
      "True\n",
      "True\n",
      "True\n",
      "False\n"
     ]
    }
   ],
   "source": [
    "s1 = \"Hello\"\n",
    "s2 = \"World\"\n",
    "\n",
    "print(s1+s2)\n",
    "print(s1*2)\n",
    "print('e' in s1)\n",
    "print('o' in s2)\n",
    "print('W' not in s1)\n",
    "print('H' not in s1)"
   ]
  },
  {
   "cell_type": "code",
   "execution_count": 34,
   "metadata": {},
   "outputs": [
    {
     "name": "stdout",
     "output_type": "stream",
     "text": [
      "H\n",
      "e\n",
      "l\n",
      "l\n",
      "o\n"
     ]
    }
   ],
   "source": [
    "# Looping through string\n",
    "for i in s1:\n",
    "    print(i)"
   ]
  },
  {
   "cell_type": "code",
   "execution_count": 36,
   "metadata": {},
   "outputs": [
    {
     "name": "stdout",
     "output_type": "stream",
     "text": [
      "Hello Python\n",
      "I like Apple\n"
     ]
    }
   ],
   "source": [
    "# .replace() method\n",
    "s = 'Hello World'\n",
    "print(s.replace('World', 'Python'))\n",
    "\n",
    "s = 'I like Banana'\n",
    "print(s.replace('Banana', 'Apple'))"
   ]
  },
  {
   "cell_type": "code",
   "execution_count": 38,
   "metadata": {},
   "outputs": [
    {
     "name": "stdout",
     "output_type": "stream",
     "text": [
      "['I', 'Love', 'Python']\n"
     ]
    }
   ],
   "source": [
    "# .split() method\n",
    "s = 'I Love Python'\n",
    "print(s.split())\n"
   ]
  },
  {
   "cell_type": "code",
   "execution_count": 40,
   "metadata": {},
   "outputs": [
    {
     "name": "stdout",
     "output_type": "stream",
     "text": [
      "I Love Python\n"
     ]
    }
   ],
   "source": [
    "# .join() method\n",
    "L = ['I', 'Love', 'Python']\n",
    "print(' '.join(L))"
   ]
  },
  {
   "cell_type": "code",
   "execution_count": 43,
   "metadata": {},
   "outputs": [
    {
     "name": "stdout",
     "output_type": "stream",
     "text": [
      "Upper Case:  HELLO WORLD\n",
      "Lower Case:  hello world\n",
      "Capitalize Case Hello world\n",
      "Title Case:  Hello World\n",
      "Swap Case:  hELLO wORLD\n"
     ]
    }
   ],
   "source": [
    "# Changing case of the string\n",
    "s = 'Hello World'\n",
    "\n",
    "print('Upper Case: ', s.upper())\n",
    "print('Lower Case: ', s.lower())\n",
    "print('Capitalize Case', s.capitalize())\n",
    "print('Title Case: ', s.title())\n",
    "print('Swap Case: ', s.swapcase())"
   ]
  },
  {
   "cell_type": "code",
   "execution_count": 46,
   "metadata": {},
   "outputs": [
    {
     "name": "stdout",
     "output_type": "stream",
     "text": [
      "  Python\n",
      "Python  \n",
      "Python\n"
     ]
    }
   ],
   "source": [
    "# Remove splace from string\n",
    "s = '  Python  '\n",
    "\n",
    "print(s.rstrip())\n",
    "print(s.lstrip())\n",
    "print(s.strip())"
   ]
  },
  {
   "cell_type": "code",
   "execution_count": 51,
   "metadata": {},
   "outputs": [
    {
     "name": "stdout",
     "output_type": "stream",
     "text": [
      "3\n"
     ]
    }
   ],
   "source": [
    "# .count() method\n",
    "s = 'I have five mangos. Out five mangos, three are good mangos.'\n",
    "\n",
    "print(s.count('mango'))"
   ]
  },
  {
   "cell_type": "code",
   "execution_count": 53,
   "metadata": {},
   "outputs": [
    {
     "name": "stdout",
     "output_type": "stream",
     "text": [
      "True\n",
      "False\n",
      "True\n",
      "True\n"
     ]
    }
   ],
   "source": [
    "# Character checking in string\n",
    "s = 'Python'\n",
    "\n",
    "print(s.startswith('P'))\n",
    "print(s.startswith('p'))\n",
    "print(s.endswith('n'))\n",
    "print('t' in s)"
   ]
  },
  {
   "cell_type": "code",
   "execution_count": null,
   "metadata": {},
   "outputs": [],
   "source": []
  }
 ],
 "metadata": {
  "kernelspec": {
   "display_name": "Python 3.11.0 64-bit",
   "language": "python",
   "name": "python3"
  },
  "language_info": {
   "codemirror_mode": {
    "name": "ipython",
    "version": 3
   },
   "file_extension": ".py",
   "mimetype": "text/x-python",
   "name": "python",
   "nbconvert_exporter": "python",
   "pygments_lexer": "ipython3",
   "version": "3.11.0"
  },
  "orig_nbformat": 4,
  "vscode": {
   "interpreter": {
    "hash": "a9f722268e7eb76f50bfe2573dfe9bdfaf179d1f85922b765053cb6b410aebc6"
   }
  }
 },
 "nbformat": 4,
 "nbformat_minor": 2
}
