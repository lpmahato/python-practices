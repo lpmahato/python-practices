{
 "cells": [
  {
   "cell_type": "markdown",
   "metadata": {},
   "source": [
    "# Regular Expression"
   ]
  },
  {
   "cell_type": "code",
   "execution_count": 3,
   "metadata": {},
   "outputs": [],
   "source": [
    "import re"
   ]
  },
  {
   "cell_type": "code",
   "execution_count": 6,
   "metadata": {},
   "outputs": [
    {
     "name": "stdout",
     "output_type": "stream",
     "text": [
      "['in', 'in', 'in']\n",
      "['ai', 'ai']\n"
     ]
    }
   ],
   "source": [
    "# findall() fuunction\n",
    "text = 'The rain in Spain'\n",
    "x = re.findall('in', text)\n",
    "print(x)\n",
    "\n",
    "x = re.findall('ai', text)\n",
    "print(x)\n"
   ]
  },
  {
   "cell_type": "code",
   "execution_count": 8,
   "metadata": {},
   "outputs": [
    {
     "name": "stdout",
     "output_type": "stream",
     "text": [
      "<re.Match object; span=(4, 8), match='rain'>\n"
     ]
    }
   ],
   "source": [
    "# search() function - return the matching text\n",
    "text = 'The rain in Spain'\n",
    "x = re.search('rain', text)\n",
    "print(x)"
   ]
  },
  {
   "cell_type": "code",
   "execution_count": 9,
   "metadata": {},
   "outputs": [
    {
     "data": {
      "text/plain": [
       "(4, 8)"
      ]
     },
     "execution_count": 9,
     "metadata": {},
     "output_type": "execute_result"
    }
   ],
   "source": [
    "# .span() function - return matching text start and end index\n",
    "x.span()"
   ]
  },
  {
   "cell_type": "code",
   "execution_count": 12,
   "metadata": {},
   "outputs": [
    {
     "name": "stdout",
     "output_type": "stream",
     "text": [
      "The rain in Spain\n"
     ]
    }
   ],
   "source": [
    "# .string - return the original text\n",
    "print(x.string)"
   ]
  },
  {
   "cell_type": "code",
   "execution_count": 15,
   "metadata": {},
   "outputs": [
    {
     "name": "stdout",
     "output_type": "stream",
     "text": [
      "rain\n"
     ]
    }
   ],
   "source": [
    "# .group() - returns the matching text\n",
    "print(x.group())"
   ]
  },
  {
   "cell_type": "code",
   "execution_count": 16,
   "metadata": {},
   "outputs": [
    {
     "data": {
      "text/plain": [
       "['The', 'rain', 'in', 'Spain']"
      ]
     },
     "execution_count": 16,
     "metadata": {},
     "output_type": "execute_result"
    }
   ],
   "source": [
    "# .split() - split the text\n",
    "print(re.split('\\s', text))"
   ]
  },
  {
   "cell_type": "code",
   "execution_count": 19,
   "metadata": {},
   "outputs": [
    {
     "data": {
      "text/plain": [
       "'The<-->rain<-->in<-->Spain'"
      ]
     },
     "execution_count": 19,
     "metadata": {},
     "output_type": "execute_result"
    }
   ],
   "source": [
    "# .sub() - replace the space with anything\n",
    "re.sub('\\s', 'HE', text)\n",
    "re.sub('\\s', '<-->', text)"
   ]
  },
  {
   "cell_type": "code",
   "execution_count": 26,
   "metadata": {},
   "outputs": [
    {
     "name": "stdout",
     "output_type": "stream",
     "text": [
      "{'Cherry', 'Banana'}\n",
      "{'Orange', 'Mango'}\n"
     ]
    }
   ],
   "source": [
    "fruits_1 = {'Apple', 'Banana', 'Cherry'}\n",
    "fruits_2 = {'Apple', 'Mango', 'Orange'}\n",
    "\n",
    "# .difference()\n",
    "result = fruits_1.difference(fruits_2)\n",
    "print(result)\n",
    "\n",
    "result = fruits_2.difference(fruits_1)\n",
    "print(result)\n"
   ]
  },
  {
   "cell_type": "code",
   "execution_count": 27,
   "metadata": {},
   "outputs": [
    {
     "name": "stdout",
     "output_type": "stream",
     "text": [
      "{'Apple'}\n",
      "{'Apple'}\n"
     ]
    }
   ],
   "source": [
    "# .intersection()\n",
    "result = fruits_1.intersection(fruits_2)\n",
    "print(result)\n",
    "\n",
    "result = fruits_2.intersection(fruits_1)\n",
    "print(result)"
   ]
  },
  {
   "cell_type": "code",
   "execution_count": 28,
   "metadata": {},
   "outputs": [
    {
     "name": "stdout",
     "output_type": "stream",
     "text": [
      "{'Apple', 'Cherry', 'Mango', 'Orange', 'Banana'}\n",
      "{'Apple', 'Cherry', 'Mango', 'Orange', 'Banana'}\n"
     ]
    }
   ],
   "source": [
    "# .union()\n",
    "result = fruits_1.union(fruits_2)\n",
    "print(result)\n",
    "\n",
    "result = fruits_2.union(fruits_1)\n",
    "print(result)"
   ]
  },
  {
   "cell_type": "code",
   "execution_count": 32,
   "metadata": {},
   "outputs": [
    {
     "name": "stdout",
     "output_type": "stream",
     "text": [
      "False\n",
      "True\n"
     ]
    }
   ],
   "source": [
    "# .isdisjoint()\n",
    "result = fruits_1.isdisjoint(fruits_2)\n",
    "print(result)\n",
    "\n",
    "x = {10, 20, 30}\n",
    "y = {1, 2, 3}\n",
    "result = x.isdisjoint(y)\n",
    "print(result)\n"
   ]
  },
  {
   "cell_type": "code",
   "execution_count": 34,
   "metadata": {},
   "outputs": [
    {
     "name": "stdout",
     "output_type": "stream",
     "text": [
      "False\n",
      "True\n"
     ]
    }
   ],
   "source": [
    "# .issubset()\n",
    "result = fruits_1.issubset(fruits_2)\n",
    "print(result)\n",
    "\n",
    "fruits_3 = {'Banana', 'Cherry'}\n",
    "result = fruits_3.issubset(fruits_1)\n",
    "print(result)"
   ]
  },
  {
   "cell_type": "code",
   "execution_count": 36,
   "metadata": {},
   "outputs": [
    {
     "name": "stdout",
     "output_type": "stream",
     "text": [
      "False\n",
      "True\n"
     ]
    }
   ],
   "source": [
    "# .issuperset()\n",
    "result = fruits_1.issuperset(fruits_2)\n",
    "print(result)\n",
    "\n",
    "fruits_4 = {'Apple', 'Banana', 'Cherry', 'Mango', 'Orange'}\n",
    "result = fruits_4.issuperset(fruits_2)\n",
    "print(result)"
   ]
  },
  {
   "cell_type": "code",
   "execution_count": null,
   "metadata": {},
   "outputs": [],
   "source": []
  }
 ],
 "metadata": {
  "kernelspec": {
   "display_name": "Python 3.11.0 64-bit",
   "language": "python",
   "name": "python3"
  },
  "language_info": {
   "codemirror_mode": {
    "name": "ipython",
    "version": 3
   },
   "file_extension": ".py",
   "mimetype": "text/x-python",
   "name": "python",
   "nbconvert_exporter": "python",
   "pygments_lexer": "ipython3",
   "version": "3.11.0"
  },
  "orig_nbformat": 4,
  "vscode": {
   "interpreter": {
    "hash": "a9f722268e7eb76f50bfe2573dfe9bdfaf179d1f85922b765053cb6b410aebc6"
   }
  }
 },
 "nbformat": 4,
 "nbformat_minor": 2
}
