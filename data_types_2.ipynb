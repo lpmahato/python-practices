{
 "cells": [
  {
   "cell_type": "markdown",
   "metadata": {},
   "source": [
    "# Advance Data Types"
   ]
  },
  {
   "cell_type": "markdown",
   "metadata": {},
   "source": [
    "## 1. List"
   ]
  },
  {
   "cell_type": "code",
   "execution_count": 1,
   "metadata": {},
   "outputs": [
    {
     "name": "stdout",
     "output_type": "stream",
     "text": [
      "[10, 20, 30, 40]\n",
      "<class 'list'>\n"
     ]
    }
   ],
   "source": [
    "# Creating a list\n",
    "L = [10, 20, 30, 40]\n",
    "print(L)\n",
    "print(type(L))"
   ]
  },
  {
   "cell_type": "code",
   "execution_count": 2,
   "metadata": {},
   "outputs": [
    {
     "name": "stdout",
     "output_type": "stream",
     "text": [
      "10\n",
      "40\n",
      "[10, 20]\n",
      "[40, 30, 20, 10]\n",
      "[10, 30]\n"
     ]
    }
   ],
   "source": [
    "# Access item\n",
    "print(L[0])\n",
    "print(L[3])\n",
    "\n",
    "# List slice\n",
    "print(L[:2])\n",
    "print(L[::-1])\n",
    "print(L[::2])"
   ]
  },
  {
   "cell_type": "code",
   "execution_count": 3,
   "metadata": {},
   "outputs": [
    {
     "name": "stdout",
     "output_type": "stream",
     "text": [
      "[10, 20, 30, 40, 50]\n"
     ]
    }
   ],
   "source": [
    "# Add item\n",
    "L.append(50)\n",
    "print(L)"
   ]
  },
  {
   "cell_type": "code",
   "execution_count": 4,
   "metadata": {},
   "outputs": [
    {
     "name": "stdout",
     "output_type": "stream",
     "text": [
      "[20, 30, 40, 50]\n"
     ]
    }
   ],
   "source": [
    "# Remove Item\n",
    "L.remove(10)\n",
    "print(L)"
   ]
  },
  {
   "cell_type": "markdown",
   "metadata": {},
   "source": [
    "#### List Comprehenson"
   ]
  },
  {
   "cell_type": "code",
   "execution_count": 5,
   "metadata": {},
   "outputs": [
    {
     "data": {
      "text/plain": [
       "[1, 2, 3, 4, 5, 6, 7, 8, 9, 10]"
      ]
     },
     "execution_count": 5,
     "metadata": {},
     "output_type": "execute_result"
    }
   ],
   "source": [
    "[i for i in range(1, 11)]"
   ]
  },
  {
   "cell_type": "code",
   "execution_count": 6,
   "metadata": {},
   "outputs": [
    {
     "data": {
      "text/plain": [
       "[2, 4, 6, 8, 10]"
      ]
     },
     "execution_count": 6,
     "metadata": {},
     "output_type": "execute_result"
    }
   ],
   "source": [
    "# with if statement\n",
    "[i for i in range(1, 11) if i%2==0]"
   ]
  },
  {
   "cell_type": "markdown",
   "metadata": {},
   "source": [
    "## 2. Tuple"
   ]
  },
  {
   "cell_type": "code",
   "execution_count": 7,
   "metadata": {},
   "outputs": [
    {
     "name": "stdout",
     "output_type": "stream",
     "text": [
      "(1, 2, 3, 4, 5)\n",
      "<class 'tuple'>\n"
     ]
    }
   ],
   "source": [
    "# Creating a tuple\n",
    "T = (1, 2, 3, 4, 5)\n",
    "print(T)\n",
    "print(type(T))"
   ]
  },
  {
   "cell_type": "code",
   "execution_count": 8,
   "metadata": {},
   "outputs": [
    {
     "name": "stdout",
     "output_type": "stream",
     "text": [
      "1\n",
      "4\n"
     ]
    }
   ],
   "source": [
    "# Access items\n",
    "print(T[0])\n",
    "print(T[3])"
   ]
  },
  {
   "cell_type": "code",
   "execution_count": 9,
   "metadata": {},
   "outputs": [
    {
     "ename": "NameError",
     "evalue": "name 'T' is not defined",
     "output_type": "error",
     "traceback": [
      "\u001b[1;31m---------------------------------------------------------------------------\u001b[0m",
      "\u001b[1;31mNameError\u001b[0m                                 Traceback (most recent call last)",
      "Cell \u001b[1;32mIn [9], line 3\u001b[0m\n\u001b[0;32m      1\u001b[0m \u001b[39m# Delete tuple\u001b[39;00m\n\u001b[0;32m      2\u001b[0m \u001b[39mdel\u001b[39;00m T\n\u001b[1;32m----> 3\u001b[0m \u001b[39mprint\u001b[39m(T)\n",
      "\u001b[1;31mNameError\u001b[0m: name 'T' is not defined"
     ]
    }
   ],
   "source": [
    "# Delete tuple\n",
    "del T\n",
    "print(T)"
   ]
  },
  {
   "cell_type": "markdown",
   "metadata": {},
   "source": [
    "## 3. Set"
   ]
  },
  {
   "cell_type": "code",
   "execution_count": 10,
   "metadata": {},
   "outputs": [
    {
     "name": "stdout",
     "output_type": "stream",
     "text": [
      "{True, 20, 23.9, 10, 'Mango'}\n",
      "<class 'set'>\n",
      "{40, 10, 20, 30}\n",
      "<class 'set'>\n"
     ]
    }
   ],
   "source": [
    "# Creating a set\n",
    "s = {10, 20, 'Mango', True, 23.90}\n",
    "print(s)\n",
    "print(type(s))\n",
    "\n",
    "# Creating set from a list\n",
    "s = set([10, 20, 30, 40])\n",
    "print(s)\n",
    "print(type(s))"
   ]
  },
  {
   "cell_type": "code",
   "execution_count": 11,
   "metadata": {},
   "outputs": [
    {
     "name": "stdout",
     "output_type": "stream",
     "text": [
      "{40, 10, 'Python', 20, 30}\n",
      "{1, 2, 3, 40, 10, 'Python', 20, 30}\n"
     ]
    }
   ],
   "source": [
    "# Add/Update item\n",
    "s.add('Python')\n",
    "print(s)\n",
    "\n",
    "# Update items\n",
    "s.update({1, 2, 3})\n",
    "print(s)"
   ]
  },
  {
   "cell_type": "code",
   "execution_count": 12,
   "metadata": {},
   "outputs": [
    {
     "name": "stdout",
     "output_type": "stream",
     "text": [
      "{1, 2, 3, 40, 10, 'Python', 20, 30}\n"
     ]
    }
   ],
   "source": [
    "# copy set\n",
    "ss = s.copy()\n",
    "print(ss)"
   ]
  },
  {
   "cell_type": "code",
   "execution_count": 13,
   "metadata": {},
   "outputs": [
    {
     "name": "stdout",
     "output_type": "stream",
     "text": [
      "{2, 3, 40, 10, 'Python', 20, 30}\n",
      "{3, 40, 10, 'Python', 20, 30}\n",
      "set()\n"
     ]
    },
    {
     "ename": "NameError",
     "evalue": "name 's' is not defined",
     "output_type": "error",
     "traceback": [
      "\u001b[1;31m---------------------------------------------------------------------------\u001b[0m",
      "\u001b[1;31mNameError\u001b[0m                                 Traceback (most recent call last)",
      "Cell \u001b[1;32mIn [13], line 17\u001b[0m\n\u001b[0;32m     15\u001b[0m \u001b[39m# Delete set\u001b[39;00m\n\u001b[0;32m     16\u001b[0m \u001b[39mdel\u001b[39;00m s\n\u001b[1;32m---> 17\u001b[0m \u001b[39mprint\u001b[39m(s)\n",
      "\u001b[1;31mNameError\u001b[0m: name 's' is not defined"
     ]
    }
   ],
   "source": [
    "# Remove item\n",
    "\n",
    "# Remove item by name\n",
    "s.discard(1)\n",
    "print(s)\n",
    "\n",
    "# Remove any random item \n",
    "s.pop()\n",
    "print(s)\n",
    "\n",
    "# Remove all item\n",
    "s.clear()\n",
    "print(s)\n",
    "\n",
    "# Delete set\n",
    "del s\n",
    "print(s)"
   ]
  },
  {
   "cell_type": "code",
   "execution_count": 14,
   "metadata": {},
   "outputs": [
    {
     "name": "stdout",
     "output_type": "stream",
     "text": [
      "difference:  {1, 2, 3, 4}\n",
      "difference:  {400, 300}\n",
      "intersection:  {200, 100, 5}\n",
      "union:  {1, 2, 3, 4, 5, 100, 200, 300, 400}\n",
      "False\n",
      "False\n",
      "True\n",
      "False\n",
      "True\n"
     ]
    }
   ],
   "source": [
    "s1 = {1, 2, 3, 200, 4, 5, 100}\n",
    "s2 = {100, 200, 300, 400, 5}\n",
    "s3 = {100, 200}\n",
    "s4 = {100, 200, 300, 400, 5, 7, 6, 9}\n",
    "\n",
    "print('difference: ', s1.difference(s2))\n",
    "print('difference: ', s2.difference(s1))\n",
    "\n",
    "print('intersection: ', s1.intersection(s2))\n",
    "print('union: ', s1.union(s2))\n",
    "\n",
    "print(s1.isdisjoint(s2))\n",
    "\n",
    "print(s1.issubset(s2))\n",
    "print(s3.issubset(s1))\n",
    "\n",
    "print(s1.issuperset(s2))\n",
    "print(s4.issuperset(s2))\n",
    "\n"
   ]
  },
  {
   "cell_type": "markdown",
   "metadata": {},
   "source": [
    "## 4. Dictionary"
   ]
  },
  {
   "cell_type": "code",
   "execution_count": 15,
   "metadata": {},
   "outputs": [
    {
     "name": "stdout",
     "output_type": "stream",
     "text": [
      "<class 'dict'>\n"
     ]
    }
   ],
   "source": [
    "# Creating a dictionary\n",
    "D = {'name': 'John Doe', 'city': 'Bengaluru', 'age': 30, 'is_married': False}\n",
    "\n",
    "print(type(D))"
   ]
  },
  {
   "cell_type": "code",
   "execution_count": 16,
   "metadata": {},
   "outputs": [
    {
     "name": "stdout",
     "output_type": "stream",
     "text": [
      "John Doe\n",
      "Bengaluru\n"
     ]
    }
   ],
   "source": [
    "# Access item by key\n",
    "print(D['name'])\n",
    "\n",
    "# Access item by get() method\n",
    "print(D.get('city'))"
   ]
  },
  {
   "cell_type": "code",
   "execution_count": 17,
   "metadata": {},
   "outputs": [
    {
     "name": "stdout",
     "output_type": "stream",
     "text": [
      "Key:  dict_keys(['name', 'city', 'age', 'is_married'])\n",
      "Values:  dict_values(['John Doe', 'Bengaluru', 30, False])\n",
      "Items:  dict_items([('name', 'John Doe'), ('city', 'Bengaluru'), ('age', 30), ('is_married', False)])\n"
     ]
    }
   ],
   "source": [
    "# Get keys\n",
    "print('Key: ', D.keys())\n",
    "\n",
    "# Get values\n",
    "print('Values: ', D.values())\n",
    "\n",
    "# Get items\n",
    "print('Items: ', D.items())"
   ]
  },
  {
   "cell_type": "code",
   "execution_count": 18,
   "metadata": {},
   "outputs": [
    {
     "name": "stdout",
     "output_type": "stream",
     "text": [
      "{'name': 'John Doe', 'city': 'Bengaluru', 'age': 28, 'is_married': False}\n",
      "{'name': 'John Doe', 'city': 'Bengaluru', 'age': 28, 'is_married': False, '1': 100, '2': 200}\n"
     ]
    }
   ],
   "source": [
    "# Add/Update Item\n",
    "\n",
    "# update item\n",
    "D['age'] = 28\n",
    "print(D)\n",
    "\n",
    "# add items\n",
    "D.update({'1': 100, '2': 200})\n",
    "print(D)"
   ]
  },
  {
   "cell_type": "code",
   "execution_count": 19,
   "metadata": {},
   "outputs": [
    {
     "name": "stdout",
     "output_type": "stream",
     "text": [
      "{'name': 'John Doe', 'city': 'Bengaluru', 'age': 28, '1': 100, '2': 200}\n",
      "{'name': 'John Doe', 'city': 'Bengaluru', 'age': 28, '2': 200}\n",
      "{'name': 'John Doe', 'city': 'Bengaluru', 'age': 28}\n",
      "{}\n"
     ]
    }
   ],
   "source": [
    "# Remove Item\n",
    "\n",
    "# Remove using key\n",
    "D.pop('is_married')\n",
    "print(D)\n",
    "\n",
    "del D['1'] \n",
    "print(D)\n",
    "\n",
    "# Remove last inserted item\n",
    "D.popitem()\n",
    "print(D)\n",
    "\n",
    "# Remove all key-values\n",
    "D.clear()\n",
    "print(D)"
   ]
  },
  {
   "cell_type": "code",
   "execution_count": null,
   "metadata": {},
   "outputs": [],
   "source": []
  }
 ],
 "metadata": {
  "kernelspec": {
   "display_name": "Python 3.11.0 64-bit",
   "language": "python",
   "name": "python3"
  },
  "language_info": {
   "codemirror_mode": {
    "name": "ipython",
    "version": 3
   },
   "file_extension": ".py",
   "mimetype": "text/x-python",
   "name": "python",
   "nbconvert_exporter": "python",
   "pygments_lexer": "ipython3",
   "version": "3.11.0"
  },
  "orig_nbformat": 4,
  "vscode": {
   "interpreter": {
    "hash": "a9f722268e7eb76f50bfe2573dfe9bdfaf179d1f85922b765053cb6b410aebc6"
   }
  }
 },
 "nbformat": 4,
 "nbformat_minor": 2
}
