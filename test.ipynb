{
 "cells": [
  {
   "cell_type": "markdown",
   "metadata": {},
   "source": [
    "## Python Closures"
   ]
  },
  {
   "cell_type": "code",
   "execution_count": 6,
   "metadata": {},
   "outputs": [
    {
     "name": "stdout",
     "output_type": "stream",
     "text": [
      "Result:  20\n"
     ]
    }
   ],
   "source": [
    "def add_ten():\n",
    "    ten = 10\n",
    "    def add(num):\n",
    "        return num + ten\n",
    "    return add\n",
    "\n",
    "\n",
    "result = add_ten()\n",
    "print('Result: ', result(10))"
   ]
  },
  {
   "cell_type": "markdown",
   "metadata": {},
   "source": [
    "## Decorators"
   ]
  },
  {
   "cell_type": "code",
   "execution_count": 11,
   "metadata": {},
   "outputs": [
    {
     "data": {
      "text/plain": [
       "'HELLO WORLD'"
      ]
     },
     "execution_count": 11,
     "metadata": {},
     "output_type": "execute_result"
    }
   ],
   "source": [
    "# Uppercase decorator\n",
    "def uppercase_decorator(function):\n",
    "    def wrapper():\n",
    "        func = function()\n",
    "        make_uppercase = func.upper()\n",
    "        return make_uppercase\n",
    "    return wrapper\n",
    "\n",
    "\n",
    "@uppercase_decorator\n",
    "def greeting():\n",
    "    return 'Hello World'\n",
    "\n",
    "greeting()\n"
   ]
  },
  {
   "cell_type": "code",
   "execution_count": 12,
   "metadata": {},
   "outputs": [
    {
     "data": {
      "text/plain": [
       "'hello world'"
      ]
     },
     "execution_count": 12,
     "metadata": {},
     "output_type": "execute_result"
    }
   ],
   "source": [
    "# lowercase decorator\n",
    "def lowercase_decorator(function):\n",
    "    def wrapper():\n",
    "        func = function()\n",
    "        make_lowercase = func.lower()\n",
    "        return make_lowercase\n",
    "    return wrapper\n",
    "\n",
    "\n",
    "@lowercase_decorator\n",
    "def greeting():\n",
    "    return 'Hello World'\n",
    "\n",
    "greeting()"
   ]
  },
  {
   "cell_type": "code",
   "execution_count": 15,
   "metadata": {},
   "outputs": [
    {
     "data": {
      "text/plain": [
       "['Hello', 'World']"
      ]
     },
     "execution_count": 15,
     "metadata": {},
     "output_type": "execute_result"
    }
   ],
   "source": [
    "# split string decorator\n",
    "def split_string_decorator(function):\n",
    "    def wrapper():\n",
    "        func = function()\n",
    "        splitted_string = func.split()\n",
    "        return splitted_string\n",
    "    return wrapper\n",
    "\n",
    "\n",
    "@split_string_decorator\n",
    "def greeting():\n",
    "    return 'Hello World'\n",
    "\n",
    "\n",
    "greeting()"
   ]
  },
  {
   "cell_type": "code",
   "execution_count": 19,
   "metadata": {},
   "outputs": [
    {
     "name": "stdout",
     "output_type": "stream",
     "text": [
      "I am Dayal Arya. I love to travel.\n",
      "I live in Bengaluru\n"
     ]
    }
   ],
   "source": [
    "def decorator_with_parameters(function):\n",
    "    def wrapper_accepting_parameters(city):\n",
    "        function(city)\n",
    "        print(\"I live in {}\".format(city))\n",
    "    return wrapper_accepting_parameters\n",
    "\n",
    "@decorator_with_parameters\n",
    "def print_full_name(country):\n",
    "    first_name = 'Dayal'\n",
    "    last_name = 'Arya'\n",
    "    print(\"I am {} {}. I love to travel.\".format(first_name, last_name, country))\n",
    "\n",
    "print_full_name('Bengaluru')"
   ]
  },
  {
   "cell_type": "markdown",
   "metadata": {},
   "source": [
    "## Higher Order Function"
   ]
  },
  {
   "cell_type": "markdown",
   "metadata": {},
   "source": [
    "#### 1. map"
   ]
  },
  {
   "cell_type": "code",
   "execution_count": 25,
   "metadata": {},
   "outputs": [
    {
     "data": {
      "text/plain": [
       "[1, 4, 9, 16, 25, 36, 49, 64, 81, 100]"
      ]
     },
     "execution_count": 25,
     "metadata": {},
     "output_type": "execute_result"
    }
   ],
   "source": [
    "# Example: 1\n",
    "numbers = [1, 2, 3, 4, 5, 6, 7, 8, 9, 10]\n",
    "def sqaure(x):\n",
    "    return x**2\n",
    "\n",
    "list(map(sqaure, numbers))"
   ]
  },
  {
   "cell_type": "code",
   "execution_count": 26,
   "metadata": {},
   "outputs": [
    {
     "data": {
      "text/plain": [
       "[1, 4, 9, 16, 25, 36, 49, 64, 81, 100]"
      ]
     },
     "execution_count": 26,
     "metadata": {},
     "output_type": "execute_result"
    }
   ],
   "source": [
    "# Example: 2\n",
    "numbers = [1, 2, 3, 4, 5, 6, 7, 8, 9, 10]\n",
    "list(map(lambda x: x**2, numbers))"
   ]
  },
  {
   "cell_type": "code",
   "execution_count": 28,
   "metadata": {},
   "outputs": [
    {
     "data": {
      "text/plain": [
       "[1, 2, 3, 4, 5]"
      ]
     },
     "execution_count": 28,
     "metadata": {},
     "output_type": "execute_result"
    }
   ],
   "source": [
    "# Example: 3\n",
    "numbers_str = ['1', '2', '3', '4', '5'] \n",
    "list(map(int, numbers_str))"
   ]
  },
  {
   "cell_type": "code",
   "execution_count": 31,
   "metadata": {},
   "outputs": [
    {
     "data": {
      "text/plain": [
       "['SMITH', 'PETER', 'EVAN', 'JACK', 'JESSICA', 'BRITNEY']"
      ]
     },
     "execution_count": 31,
     "metadata": {},
     "output_type": "execute_result"
    }
   ],
   "source": [
    "# Example: 4\n",
    "names = ['Smith', 'Peter', 'Evan', 'Jack', 'Jessica', 'Britney']\n",
    "\n",
    "list(map(lambda x:x.upper(), names))"
   ]
  },
  {
   "cell_type": "markdown",
   "metadata": {},
   "source": [
    "#### 2. filter"
   ]
  },
  {
   "cell_type": "code",
   "execution_count": 46,
   "metadata": {},
   "outputs": [
    {
     "data": {
      "text/plain": [
       "[2, 4, 6, 8, 10]"
      ]
     },
     "execution_count": 46,
     "metadata": {},
     "output_type": "execute_result"
    }
   ],
   "source": [
    "# Example: 1\n",
    "numbers = [1, 2, 3, 4, 5, 6, 7, 8, 9, 10]\n",
    "\n",
    "def even_numbers(number):\n",
    "    if number%2 == 0:\n",
    "        return 'Even'\n",
    "\n",
    "list(filter(even_numbers, numbers))"
   ]
  },
  {
   "cell_type": "markdown",
   "metadata": {},
   "source": [
    "#### 3. reduce"
   ]
  },
  {
   "cell_type": "code",
   "execution_count": 47,
   "metadata": {},
   "outputs": [
    {
     "data": {
      "text/plain": [
       "15"
      ]
     },
     "execution_count": 47,
     "metadata": {},
     "output_type": "execute_result"
    }
   ],
   "source": [
    "# Example: 1\n",
    "from functools import reduce\n",
    "numbers_str = ['1', '2', '3', '4', '5']\n",
    "\n",
    "def add_two_nums(x, y):\n",
    "    return int(x) + int(y)\n",
    "\n",
    "total = reduce(add_two_nums, numbers_str)\n",
    "total\n"
   ]
  },
  {
   "cell_type": "code",
   "execution_count": 48,
   "metadata": {},
   "outputs": [
    {
     "data": {
      "text/plain": [
       "15"
      ]
     },
     "execution_count": 48,
     "metadata": {},
     "output_type": "execute_result"
    }
   ],
   "source": [
    "reduce(lambda x,y: int(x) +int(y), numbers_str)"
   ]
  },
  {
   "cell_type": "code",
   "execution_count": 64,
   "metadata": {},
   "outputs": [
    {
     "ename": "TypeError",
     "evalue": "unsupported operand type(s) for -: 'str' and 'int'",
     "output_type": "error",
     "traceback": [
      "\u001b[1;31m---------------------------------------------------------------------------\u001b[0m",
      "\u001b[1;31mTypeError\u001b[0m                                 Traceback (most recent call last)",
      "Cell \u001b[1;32mIn [64], line 5\u001b[0m\n\u001b[0;32m      1\u001b[0m \u001b[39m# a = int(input(\"Enter first number: \"))\u001b[39;00m\n\u001b[0;32m      2\u001b[0m \u001b[39m# b = int(input(\"Enter first number: \"))\u001b[39;00m\n\u001b[0;32m      3\u001b[0m \u001b[39m# print('Result: ', (a+b))\u001b[39;00m\n\u001b[1;32m----> 5\u001b[0m \u001b[39m'\u001b[39;49m\u001b[39m4\u001b[39;49m\u001b[39m'\u001b[39;49m\u001b[39m-\u001b[39;49m\u001b[39m2\u001b[39;49m\n",
      "\u001b[1;31mTypeError\u001b[0m: unsupported operand type(s) for -: 'str' and 'int'"
     ]
    }
   ],
   "source": [
    "# a = int(input(\"Enter first number: \"))\n",
    "# b = int(input(\"Enter first number: \"))\n",
    "# print('Result: ', (a+b))\n",
    "\n",
    "'4'-2\n"
   ]
  },
  {
   "cell_type": "code",
   "execution_count": 8,
   "metadata": {},
   "outputs": [
    {
     "name": "stdout",
     "output_type": "stream",
     "text": [
      "First Name:  Peter\n",
      "Last Name:  Parker\n",
      "My name is Peter Parker. I am 30 years old. I live in New York, USA.\n",
      "Skills:  ['NodeJS', 'JavaScript', 'Python', 'AI']\n"
     ]
    }
   ],
   "source": [
    "class Person:\n",
    "    def __init__(self, firstname='Dayal', lastname='Arya', age=28, city='Bengaluru', country='Karnataka'):\n",
    "        self.firstname = firstname\n",
    "        self.lastname = lastname\n",
    "        self.age = age\n",
    "        self.city = city\n",
    "        self.country = country\n",
    "        self.skills = []\n",
    "\n",
    "\n",
    "    def personal_info(self):\n",
    "        return f'My name is {self.firstname} {self.lastname}. I am {self.age} years old. I live in {self.city}, {self.country}.'\n",
    "\n",
    "    def add_skills(self, skill):\n",
    "        self.skills.append(skill)\n",
    "\n",
    "\n",
    "person = Person('Peter', 'Parker', 30, 'New York', 'USA')\n",
    "print('First Name: ', person.firstname)\n",
    "print('Last Name: ', person.lastname)\n",
    "print(person.personal_info())\n",
    "person.add_skills('NodeJS')\n",
    "person.add_skills('JavaScript')\n",
    "person.add_skills('Python')\n",
    "person.add_skills('AI')\n",
    "print('Skills: ', person.skills)"
   ]
  },
  {
   "cell_type": "code",
   "execution_count": null,
   "metadata": {},
   "outputs": [],
   "source": []
  }
 ],
 "metadata": {
  "kernelspec": {
   "display_name": "Python 3.11.0 64-bit",
   "language": "python",
   "name": "python3"
  },
  "language_info": {
   "codemirror_mode": {
    "name": "ipython",
    "version": 3
   },
   "file_extension": ".py",
   "mimetype": "text/x-python",
   "name": "python",
   "nbconvert_exporter": "python",
   "pygments_lexer": "ipython3",
   "version": "3.11.0"
  },
  "orig_nbformat": 4,
  "vscode": {
   "interpreter": {
    "hash": "a9f722268e7eb76f50bfe2573dfe9bdfaf179d1f85922b765053cb6b410aebc6"
   }
  }
 },
 "nbformat": 4,
 "nbformat_minor": 2
}
