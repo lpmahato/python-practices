{
 "cells": [
  {
   "cell_type": "markdown",
   "metadata": {},
   "source": [
    "# Class and Object"
   ]
  },
  {
   "cell_type": "code",
   "execution_count": 1,
   "metadata": {},
   "outputs": [
    {
     "name": "stdout",
     "output_type": "stream",
     "text": [
      "<__main__.Car object at 0x000001A3F3861D50>\n",
      "<__main__.Car object at 0x000001A3F3862290>\n"
     ]
    }
   ],
   "source": [
    "class Car:\n",
    "    def __init__(self, name, color):\n",
    "        self.name = name\n",
    "        self.color = color\n",
    "\n",
    "\n",
    "car1 = Car('Audi', 'White')\n",
    "print(car1)\n",
    "\n",
    "car2 = Car('BMW', 'Red')\n",
    "print(car2)"
   ]
  },
  {
   "cell_type": "code",
   "execution_count": 2,
   "metadata": {},
   "outputs": [
    {
     "name": "stdout",
     "output_type": "stream",
     "text": [
      "{'subject1': 67, 'subject2': 89, 'subject3': 85}\n",
      "{'subject1': 89, 'subject2': 61, 'subject3': 72}\n"
     ]
    }
   ],
   "source": [
    "class Student:\n",
    "    def __init__(self, s1, s2, s3):\n",
    "        self.subject1 = s1\n",
    "        self.subject2 = s2\n",
    "        self.subject3 = s3\n",
    "\n",
    "    def avg(self):\n",
    "        return (self.subject1+self.subject2+self.subject3)/3\n",
    "\n",
    "\n",
    "\n",
    "student1 = Student(67, 89, 85)\n",
    "student2 = Student(89, 61, 72)\n",
    "\n",
    "print(student1.__dict__)\n",
    "print(student2.__dict__)"
   ]
  },
  {
   "cell_type": "code",
   "execution_count": 3,
   "metadata": {},
   "outputs": [
    {
     "name": "stdout",
     "output_type": "stream",
     "text": [
      "student1:  80.33333333333333\n",
      "student2:  74.0\n"
     ]
    }
   ],
   "source": [
    "print('student1: ', student1.avg())\n",
    "print('student2: ', student2.avg())"
   ]
  },
  {
   "cell_type": "markdown",
   "metadata": {},
   "source": [
    "# Variables"
   ]
  },
  {
   "cell_type": "code",
   "execution_count": 5,
   "metadata": {},
   "outputs": [
    {
     "name": "stdout",
     "output_type": "stream",
     "text": [
      "50\n",
      "140725497092424\n"
     ]
    }
   ],
   "source": [
    "x = 50\n",
    "print(x)\n",
    "print(id(x))"
   ]
  },
  {
   "cell_type": "code",
   "execution_count": 9,
   "metadata": {},
   "outputs": [
    {
     "name": "stdout",
     "output_type": "stream",
     "text": [
      "140725497091144\n",
      "140725497091176\n"
     ]
    }
   ],
   "source": [
    "a = 10\n",
    "A = 11\n",
    "print(id(a))\n",
    "print(id(A))"
   ]
  },
  {
   "cell_type": "code",
   "execution_count": 10,
   "metadata": {},
   "outputs": [
    {
     "name": "stdout",
     "output_type": "stream",
     "text": [
      "<class 'str'>\n"
     ]
    }
   ],
   "source": [
    "name = 'Max'\n",
    "a = name\n",
    "print(type(a))"
   ]
  },
  {
   "cell_type": "code",
   "execution_count": 12,
   "metadata": {},
   "outputs": [
    {
     "name": "stdout",
     "output_type": "stream",
     "text": [
      "Inside scope-a:  10\n",
      "Inside scope-b:  15\n",
      "Outside scope-a:  10\n"
     ]
    },
    {
     "ename": "NameError",
     "evalue": "name 'b' is not defined",
     "output_type": "error",
     "traceback": [
      "\u001b[1;31m---------------------------------------------------------------------------\u001b[0m",
      "\u001b[1;31mNameError\u001b[0m                                 Traceback (most recent call last)",
      "Cell \u001b[1;32mIn [12], line 10\u001b[0m\n\u001b[0;32m      8\u001b[0m func_1()\n\u001b[0;32m      9\u001b[0m \u001b[39mprint\u001b[39m(\u001b[39m'\u001b[39m\u001b[39mOutside scope-a: \u001b[39m\u001b[39m'\u001b[39m, a)\n\u001b[1;32m---> 10\u001b[0m \u001b[39mprint\u001b[39m(\u001b[39m'\u001b[39m\u001b[39mOutside scope-b: \u001b[39m\u001b[39m'\u001b[39m, b)\n",
      "\u001b[1;31mNameError\u001b[0m: name 'b' is not defined"
     ]
    }
   ],
   "source": [
    "# Scope of variable\n",
    "a = 10\n",
    "def func_1():\n",
    "    b = 15\n",
    "    print('Inside scope-a: ', a)\n",
    "    print('Inside scope-b: ', b)\n",
    "\n",
    "func_1()\n",
    "print('Outside scope-a: ', a)\n",
    "print('Outside scope-b: ', b)\n"
   ]
  },
  {
   "cell_type": "code",
   "execution_count": 13,
   "metadata": {},
   "outputs": [
    {
     "name": "stdout",
     "output_type": "stream",
     "text": [
      "Inside scope:  15\n",
      "Outside scope:  15\n"
     ]
    }
   ],
   "source": [
    "# Scope of variable\n",
    "a = 10\n",
    "def func_1():\n",
    "    global a\n",
    "    a = 15\n",
    "    print('Inside scope: ', a)\n",
    "\n",
    "func_1()\n",
    "print('Outside scope: ', a)\n"
   ]
  },
  {
   "cell_type": "code",
   "execution_count": 14,
   "metadata": {},
   "outputs": [],
   "source": [
    "class Employee:\n",
    "    company = 'ABC'\n",
    "    def __init__(self, id, name):\n",
    "        self.id = id\n",
    "        self.name = name\n",
    "\n",
    "    "
   ]
  },
  {
   "cell_type": "code",
   "execution_count": 17,
   "metadata": {},
   "outputs": [
    {
     "name": "stdout",
     "output_type": "stream",
     "text": [
      "Employee: 1\n",
      "101\n",
      "Smith\n",
      "ABC\n",
      "Employee: 2\n",
      "102\n",
      "Peter\n",
      "ABC\n"
     ]
    }
   ],
   "source": [
    "print('Employee: 1')\n",
    "employee1 = Employee(101, 'Smith')\n",
    "print(employee1.id)\n",
    "print(employee1.name)\n",
    "print(employee1.company)\n",
    "\n",
    "print('Employee: 2')\n",
    "employee2 = Employee(102, 'Peter')\n",
    "print(employee2.id)\n",
    "print(employee2.name)\n",
    "print(employee2.company)"
   ]
  },
  {
   "cell_type": "code",
   "execution_count": 18,
   "metadata": {},
   "outputs": [
    {
     "name": "stdout",
     "output_type": "stream",
     "text": [
      "Employee: 1\n",
      "101\n",
      "Jessica\n",
      "ABC\n",
      "Employee: 2\n",
      "102\n",
      "Peter\n",
      "ABC\n"
     ]
    }
   ],
   "source": [
    "employee1.name = 'Jessica'\n",
    "\n",
    "print('Employee: 1')\n",
    "print(employee1.id)\n",
    "print(employee1.name)\n",
    "print(employee1.company)\n",
    "\n",
    "print('Employee: 2')\n",
    "print(employee2.id)\n",
    "print(employee2.name)\n",
    "print(employee2.company)"
   ]
  },
  {
   "cell_type": "code",
   "execution_count": 19,
   "metadata": {},
   "outputs": [
    {
     "name": "stdout",
     "output_type": "stream",
     "text": [
      "Employee: 1\n",
      "101\n",
      "Jessica\n",
      "XYZ\n",
      "Employee: 2\n",
      "102\n",
      "Peter\n",
      "XYZ\n"
     ]
    }
   ],
   "source": [
    "Employee.company = 'XYZ'\n",
    "\n",
    "print('Employee: 1')\n",
    "print(employee1.id)\n",
    "print(employee1.name)\n",
    "print(employee1.company)\n",
    "\n",
    "print('Employee: 2')\n",
    "print(employee2.id)\n",
    "print(employee2.name)\n",
    "print(employee2.company)"
   ]
  },
  {
   "cell_type": "markdown",
   "metadata": {},
   "source": [
    "# Methods"
   ]
  },
  {
   "cell_type": "code",
   "execution_count": 30,
   "metadata": {},
   "outputs": [],
   "source": [
    "class MethodDemo:\n",
    "    def __init__(self, name):\n",
    "        self.name = name\n",
    "\n",
    "    def instance_method(self):\n",
    "        text = f'This is a {self.name} method.'\n",
    "        return text\n",
    "\n",
    "    @classmethod\n",
    "    def class_method(cls):\n",
    "        print(cls.cls_var)\n",
    "        # text = cls.cls_var\n",
    "        return None\n",
    "\n",
    "    @staticmethod\n",
    "    def static_method(self):\n",
    "        text = f'This is {self.name} method.'\n",
    "        return text\n",
    "\n",
    "\n",
    "if __name__ == \"__main__\":\n",
    "    demo = MethodDemo('Instance')\n",
    "    demo1 = MethodDemo('Instance1')\n",
    "    # print(demo.instance_method())\n",
    "    # print(demo.static_method('Static'))\n",
    "    # print(demo1.instance_method())\n",
    "    # print(demo1.instance_method('Static'))"
   ]
  },
  {
   "cell_type": "markdown",
   "metadata": {},
   "source": [
    "# Contructor"
   ]
  },
  {
   "cell_type": "code",
   "execution_count": 46,
   "metadata": {},
   "outputs": [],
   "source": [
    "class ConstructDemo:\n",
    "    def __init__(self, a, b):\n",
    "        self.a = a\n",
    "        self.b = b\n",
    "\n",
    "    def sum(self):\n",
    "        return (self.a+self.b)\n",
    "\n",
    "    def sub(self):\n",
    "        return (self.a-self.b)\n",
    "\n",
    "    def multiply(self):\n",
    "        return (self.a*self.b)"
   ]
  },
  {
   "cell_type": "code",
   "execution_count": 47,
   "metadata": {},
   "outputs": [
    {
     "name": "stdout",
     "output_type": "stream",
     "text": [
      "Sum:  30\n",
      "Sub:  -10\n",
      "Multiply:  200\n"
     ]
    }
   ],
   "source": [
    "obj = ConstructDemo(10, 20)\n",
    "\n",
    "print('Sum: ', obj.sum())\n",
    "print('Sub: ', obj.sub())\n",
    "print('Multiply: ', obj.multiply())\n"
   ]
  },
  {
   "cell_type": "markdown",
   "metadata": {},
   "source": [
    "# Destructor"
   ]
  },
  {
   "cell_type": "code",
   "execution_count": 48,
   "metadata": {},
   "outputs": [],
   "source": [
    "class Employee:\n",
    "    def __init__(self):\n",
    "        print('Employee class called.')\n",
    "\n",
    "    def __del__(self):\n",
    "        print('Destructor called, Employee class deleted.')"
   ]
  },
  {
   "cell_type": "code",
   "execution_count": 51,
   "metadata": {},
   "outputs": [
    {
     "name": "stdout",
     "output_type": "stream",
     "text": [
      "Employee class called.\n",
      "Destructor called, Employee class deleted.\n"
     ]
    }
   ],
   "source": [
    "obj = Employee()"
   ]
  },
  {
   "cell_type": "markdown",
   "metadata": {},
   "source": [
    "# Encapsulation"
   ]
  },
  {
   "cell_type": "code",
   "execution_count": 61,
   "metadata": {},
   "outputs": [],
   "source": [
    "class EmployeeDetails:\n",
    "    def __init__(self, name, department, salary):\n",
    "        self.name = name\n",
    "        self.department = department\n",
    "        self.salary = salary\n",
    "        \n",
    "    def get_details(self):\n",
    "        details = f'Employee name is {self.name}.\\nWorking in {self.department} department and getting ${self.salary} salary.'\n",
    "        return details"
   ]
  },
  {
   "cell_type": "code",
   "execution_count": 62,
   "metadata": {},
   "outputs": [
    {
     "name": "stdout",
     "output_type": "stream",
     "text": [
      "Employee name is John.\n",
      "Working in IT department and getting $34000 salary.\n"
     ]
    }
   ],
   "source": [
    "employee = EmployeeDetails('John', 'IT', 34000)\n",
    "print(employee.get_details())"
   ]
  },
  {
   "cell_type": "markdown",
   "metadata": {},
   "source": [
    "# Access Modifiers"
   ]
  },
  {
   "cell_type": "markdown",
   "metadata": {},
   "source": [
    "### 1. Public Access Modifiers"
   ]
  },
  {
   "cell_type": "code",
   "execution_count": 66,
   "metadata": {},
   "outputs": [],
   "source": [
    "class Student:\n",
    "    def __init__(self, name, age):\n",
    "        self.name = name\n",
    "        self.age = age\n",
    "\n",
    "    def details(self):\n",
    "        detailts = f'My name is {self.name} and I am {self.age} year old.'\n",
    "        return detailts"
   ]
  },
  {
   "cell_type": "code",
   "execution_count": 67,
   "metadata": {},
   "outputs": [
    {
     "name": "stdout",
     "output_type": "stream",
     "text": [
      "Jessica\n",
      "23\n",
      "My name is Jessica and I am 23 year old.\n"
     ]
    }
   ],
   "source": [
    "student = Student('Jessica', 23)\n",
    "print(student.name)\n",
    "print(student.age)\n",
    "print(student.details())"
   ]
  },
  {
   "cell_type": "markdown",
   "metadata": {},
   "source": [
    "### 2. Protected Access Modifiers"
   ]
  },
  {
   "cell_type": "code",
   "execution_count": 79,
   "metadata": {},
   "outputs": [],
   "source": [
    "class Car:\n",
    "    def __init__(self, name, speed):\n",
    "        self._name = name\n",
    "        self.speed = speed\n",
    "\n",
    "    def show(self):\n",
    "        print(f'Name of the car is: {self._name}')\n",
    "        print(f'Speed of the car is: {self.speed}')\n",
    "\n",
    "\n",
    "class Ferrari(Car):\n",
    "    def __init__(self, name, speed):\n",
    "        super().__init__(name, speed)\n",
    "        # Car.__init__(self, name, speed)\n",
    "\n",
    "    def show(self):\n",
    "        print(f'Name of the car is: {self._name}')\n",
    "        print(f'Speed of the car is: {self.speed}')"
   ]
  },
  {
   "cell_type": "code",
   "execution_count": 80,
   "metadata": {},
   "outputs": [
    {
     "name": "stdout",
     "output_type": "stream",
     "text": [
      "Name of the car is: BMW\n",
      "Speed of the car is: 210\n"
     ]
    }
   ],
   "source": [
    "car = Car('BMW', 210)\n",
    "car.show()"
   ]
  },
  {
   "cell_type": "code",
   "execution_count": 81,
   "metadata": {},
   "outputs": [
    {
     "name": "stdout",
     "output_type": "stream",
     "text": [
      "Name of the car is: Ferrari\n",
      "Speed of the car is: 220\n"
     ]
    }
   ],
   "source": [
    "ferrari = Ferrari('Ferrari', 220)\n",
    "ferrari.show()"
   ]
  },
  {
   "cell_type": "markdown",
   "metadata": {},
   "source": [
    "### 3. Private Access Modifiers"
   ]
  },
  {
   "cell_type": "code",
   "execution_count": 84,
   "metadata": {},
   "outputs": [],
   "source": [
    "class Car:\n",
    "    def __init__(self, name, speed):\n",
    "        self.__name = name\n",
    "        self.__speed = speed\n",
    "\n",
    "    def show(self):\n",
    "        print(f'Name of the car is: {self.__name}')\n",
    "        print(f'Speed of the car is: {self.__speed}')"
   ]
  },
  {
   "cell_type": "code",
   "execution_count": 85,
   "metadata": {},
   "outputs": [
    {
     "name": "stdout",
     "output_type": "stream",
     "text": [
      "Name of the car is: Ferrari\n",
      "Speed of the car is: 220\n"
     ]
    }
   ],
   "source": [
    "# Accessing private member by public method\n",
    "car = Car('Ferrari', 220)\n",
    "car.show()"
   ]
  },
  {
   "cell_type": "code",
   "execution_count": 87,
   "metadata": {},
   "outputs": [
    {
     "name": "stdout",
     "output_type": "stream",
     "text": [
      "Car Name:  Ferrari\n",
      "Car Speed:  230\n"
     ]
    }
   ],
   "source": [
    "# Accessing private by Name Mangling\n",
    "car = Car('Ferrari', 230)\n",
    "name = car._Car__name\n",
    "speed = car._Car__speed\n",
    "print('Car Name: ', name)\n",
    "print('Car Speed: ', speed)"
   ]
  },
  {
   "cell_type": "markdown",
   "metadata": {},
   "source": [
    "## Getter and Setter"
   ]
  },
  {
   "cell_type": "markdown",
   "metadata": {},
   "source": [
    "#### Example: 1"
   ]
  },
  {
   "cell_type": "code",
   "execution_count": 88,
   "metadata": {},
   "outputs": [],
   "source": [
    "class Student:\n",
    "    def __init__(self, name, age):\n",
    "        self.name = name\n",
    "        self.__age = age\n",
    "\n",
    "    def get_age(self):\n",
    "        return self.__age\n",
    "\n",
    "    def set_age(self, age):\n",
    "        self.__age = age    "
   ]
  },
  {
   "cell_type": "code",
   "execution_count": 89,
   "metadata": {},
   "outputs": [
    {
     "name": "stdout",
     "output_type": "stream",
     "text": [
      "Student:  Peter 25\n",
      "Student:  Peter 27\n"
     ]
    }
   ],
   "source": [
    "student = Student('Peter', 25)\n",
    "print('Student: ', student.name, student.get_age())\n",
    "\n",
    "# Changing name by using setter method\n",
    "student.set_age(27)\n",
    "print('Student: ', student.name, student.get_age())"
   ]
  },
  {
   "cell_type": "markdown",
   "metadata": {},
   "source": [
    "#### Example: 2"
   ]
  },
  {
   "cell_type": "code",
   "execution_count": 92,
   "metadata": {},
   "outputs": [],
   "source": [
    "class Student:\n",
    "    def __init__(self, name, age):\n",
    "        self.name = name\n",
    "        self.__age = age\n",
    "\n",
    "    def get_age(self):\n",
    "        return self.__age\n",
    "\n",
    "    def set_age(self, age: int):\n",
    "        if age < 20:\n",
    "            print('Age should not be less than 20.')\n",
    "        else:\n",
    "            self.__age = age    "
   ]
  },
  {
   "cell_type": "code",
   "execution_count": 95,
   "metadata": {},
   "outputs": [
    {
     "name": "stdout",
     "output_type": "stream",
     "text": [
      "Student:  Peter 25\n",
      "Student:  Peter 27\n",
      "Age should not be less than 20.\n"
     ]
    }
   ],
   "source": [
    "student = Student('Peter', 25)\n",
    "print('Student: ', student.name, student.get_age())\n",
    "\n",
    "# Changing name by using setter method\n",
    "student.set_age(27)\n",
    "print('Student: ', student.name, student.get_age())\n",
    "\n",
    "# Changing name by using setter method\n",
    "student.set_age(18)"
   ]
  },
  {
   "cell_type": "markdown",
   "metadata": {},
   "source": [
    "# Inheritance"
   ]
  },
  {
   "cell_type": "markdown",
   "metadata": {},
   "source": [
    "#### 1. Single Inheritance"
   ]
  },
  {
   "cell_type": "code",
   "execution_count": 106,
   "metadata": {},
   "outputs": [],
   "source": [
    "class Father:\n",
    "    def func_1(self):\n",
    "        print('This function is in parent class.')\n",
    "\n",
    "class Son(Father):\n",
    "    def func_2(self):\n",
    "        print('This function is in parent class.')"
   ]
  },
  {
   "cell_type": "code",
   "execution_count": 107,
   "metadata": {},
   "outputs": [
    {
     "name": "stdout",
     "output_type": "stream",
     "text": [
      "This function is in parent class.\n",
      "None\n",
      "This function is in parent class.\n",
      "None\n"
     ]
    }
   ],
   "source": [
    "son = Son()\n",
    "print(son.func_1())\n",
    "print(son.func_2())"
   ]
  },
  {
   "cell_type": "markdown",
   "metadata": {},
   "source": [
    "#### 2. Multiple inheritance"
   ]
  },
  {
   "cell_type": "code",
   "execution_count": 1,
   "metadata": {},
   "outputs": [],
   "source": [
    "class Father:\n",
    "    def method1(self):\n",
    "        print('This method is in Father class')\n",
    "\n",
    "class Mother:\n",
    "    def method2(self):\n",
    "        print('This method is in Mother class')\n",
    "\n",
    "class Child(Father, Mother):\n",
    "    def method3(self):\n",
    "        print('This method is in Child class')        "
   ]
  },
  {
   "cell_type": "code",
   "execution_count": 2,
   "metadata": {},
   "outputs": [
    {
     "name": "stdout",
     "output_type": "stream",
     "text": [
      "This method is in Father class\n",
      "None\n",
      "This method is in Mother class\n",
      "None\n",
      "This method is in Child class\n",
      "None\n"
     ]
    }
   ],
   "source": [
    "child = Child()\n",
    "print(child.method1())\n",
    "print(child.method2())\n",
    "print(child.method3())"
   ]
  },
  {
   "cell_type": "markdown",
   "metadata": {},
   "source": [
    "# Polymorphism"
   ]
  },
  {
   "cell_type": "code",
   "execution_count": 3,
   "metadata": {},
   "outputs": [],
   "source": [
    "class Cat:\n",
    "    def __init__(self, name, age):\n",
    "        self.name = name\n",
    "        self.age = age\n",
    "\n",
    "    def info(self):\n",
    "        print(f'I am a cat. My name is {self.name} and I am {self.age} years old.')\n",
    "\n",
    "    def make_sound(self):\n",
    "        print('Meow')\n",
    "\n",
    "\n",
    "class Dog:\n",
    "    def __init__(self, name, age):\n",
    "        self.name = name\n",
    "        self.age = age\n",
    "\n",
    "    def info(self):\n",
    "        print(f'I am a dog. My name is {self.name} and I am {self.age} years old.')\n",
    "\n",
    "    def make_sound(self):\n",
    "        print('Bow')"
   ]
  },
  {
   "cell_type": "code",
   "execution_count": 4,
   "metadata": {},
   "outputs": [
    {
     "name": "stdout",
     "output_type": "stream",
     "text": [
      "I am a cat. My name is Kitty and I am 2.3 years old.\n",
      "Meow\n",
      "I am a dog. My name is Tommy and I am 3 years old.\n",
      "Bow\n"
     ]
    }
   ],
   "source": [
    "cat = Cat('Kitty', 2.3)\n",
    "dog = Dog('Tommy', 3)\n",
    "\n",
    "for animal in (cat, dog):\n",
    "    animal.info()\n",
    "    animal.make_sound()"
   ]
  },
  {
   "cell_type": "markdown",
   "metadata": {},
   "source": [
    "# Abstraction"
   ]
  },
  {
   "cell_type": "code",
   "execution_count": 9,
   "metadata": {},
   "outputs": [],
   "source": [
    "from abc import ABC, abstractmethod\n",
    "\n",
    "class Shape(ABC):\n",
    "\n",
    "    @abstractmethod\n",
    "    def edges(self):\n",
    "        pass\n",
    "\n",
    "\n",
    "class Triangle(Shape):\n",
    "    def edges(self):\n",
    "        print('Edge in a triangle is 3.')"
   ]
  },
  {
   "cell_type": "code",
   "execution_count": 11,
   "metadata": {},
   "outputs": [
    {
     "name": "stdout",
     "output_type": "stream",
     "text": [
      "Edge in a triangle is 3.\n"
     ]
    }
   ],
   "source": [
    "# shape = Shape()\n",
    "\n",
    "triangle = Triangle()\n",
    "triangle.edges()"
   ]
  },
  {
   "cell_type": "code",
   "execution_count": null,
   "metadata": {},
   "outputs": [],
   "source": []
  }
 ],
 "metadata": {
  "kernelspec": {
   "display_name": "Python 3.11.0 64-bit",
   "language": "python",
   "name": "python3"
  },
  "language_info": {
   "codemirror_mode": {
    "name": "ipython",
    "version": 3
   },
   "file_extension": ".py",
   "mimetype": "text/x-python",
   "name": "python",
   "nbconvert_exporter": "python",
   "pygments_lexer": "ipython3",
   "version": "3.11.0"
  },
  "orig_nbformat": 4,
  "vscode": {
   "interpreter": {
    "hash": "a9f722268e7eb76f50bfe2573dfe9bdfaf179d1f85922b765053cb6b410aebc6"
   }
  }
 },
 "nbformat": 4,
 "nbformat_minor": 2
}
